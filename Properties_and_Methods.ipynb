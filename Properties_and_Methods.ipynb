{
  "nbformat": 4,
  "nbformat_minor": 0,
  "metadata": {
    "colab": {
      "provenance": [],
      "authorship_tag": "ABX9TyP/Bov2UKGn0CQo5KotIfUV",
      "include_colab_link": true
    },
    "kernelspec": {
      "name": "python3",
      "display_name": "Python 3"
    },
    "language_info": {
      "name": "python"
    }
  },
  "cells": [
    {
      "cell_type": "markdown",
      "metadata": {
        "id": "view-in-github",
        "colab_type": "text"
      },
      "source": [
        "<a href=\"https://colab.research.google.com/github/J1283/BTE320-/blob/main/Properties_and_Methods.ipynb\" target=\"_parent\"><img src=\"https://colab.research.google.com/assets/colab-badge.svg\" alt=\"Open In Colab\"/></a>"
      ]
    },
    {
      "cell_type": "code",
      "execution_count": null,
      "metadata": {
        "id": "OmesuoCJJC29"
      },
      "outputs": [],
      "source": [
        "class Mortgage:\n",
        "  def __init__(self, ammount, years, rate):\n",
        "    self.ammount = ammount\n",
        "    self.years = years\n",
        "    self.__rate = rate\n",
        "\n",
        "  def __str__(self):\n",
        "    return f'Mortgate Info: \\n Initial loan ammount: {self.ammount} $\\n Maturity term: {self.years} years\\n Interest rate: {self.__rate} percent  '\n",
        "  def get_rate(self):\n",
        "    return self.__rate\n",
        "\n",
        "  def set_rate(self, newRate):\n",
        "    if newRate >= 0:\n",
        "      self.__rate = newRate\n",
        "    else:\n",
        "      print('Please enter a non-negative interest value')\n",
        "\n",
        "  def payment(self):\n",
        "    r = self.__rate/100\n",
        "    n = self.years*12\n",
        "    return self.ammount*(r*(1+r)**n) / ((1+r)**n-1)\n",
        "\n"
      ]
    },
    {
      "cell_type": "code",
      "source": [
        "m = Mortgage(100000, 30, 6)"
      ],
      "metadata": {
        "id": "_hb3UocQLC0f"
      },
      "execution_count": null,
      "outputs": []
    },
    {
      "cell_type": "code",
      "source": [
        "m.payment()"
      ],
      "metadata": {
        "colab": {
          "base_uri": "https://localhost:8080/"
        },
        "id": "8fzFTes8J_oe",
        "outputId": "1163842b-ada4-4649-a113-9064f08dfb50"
      },
      "execution_count": null,
      "outputs": [
        {
          "output_type": "execute_result",
          "data": {
            "text/plain": [
              "6000.000004656286"
            ]
          },
          "metadata": {},
          "execution_count": 65
        }
      ]
    },
    {
      "cell_type": "code",
      "source": [
        "m.get_rate()"
      ],
      "metadata": {
        "colab": {
          "base_uri": "https://localhost:8080/"
        },
        "id": "eBhEM5wIQPMg",
        "outputId": "81c3c757-9816-45ca-f6ad-c4389a04d5a9"
      },
      "execution_count": null,
      "outputs": [
        {
          "output_type": "execute_result",
          "data": {
            "text/plain": [
              "6"
            ]
          },
          "metadata": {},
          "execution_count": 66
        }
      ]
    },
    {
      "cell_type": "code",
      "source": [
        "m.set_rate(5)\n",
        "m.get_rate()"
      ],
      "metadata": {
        "colab": {
          "base_uri": "https://localhost:8080/"
        },
        "id": "LxC1xKp5QXUQ",
        "outputId": "9332bb25-d2e0-4873-d7f5-1e532144affa"
      },
      "execution_count": null,
      "outputs": [
        {
          "output_type": "execute_result",
          "data": {
            "text/plain": [
              "5"
            ]
          },
          "metadata": {},
          "execution_count": 67
        }
      ]
    },
    {
      "cell_type": "code",
      "source": [
        "print(m)"
      ],
      "metadata": {
        "colab": {
          "base_uri": "https://localhost:8080/"
        },
        "id": "4gMjOcieKW-c",
        "outputId": "b91001a0-ef71-40ed-ff2d-c30854e4dd7f"
      },
      "execution_count": null,
      "outputs": [
        {
          "output_type": "stream",
          "name": "stdout",
          "text": [
            "Mortgate Info: \n",
            " Initial loan ammount: 100000 $\n",
            " Maturity term: 30 years\n",
            " Interest rate: 6 percent  \n"
          ]
        }
      ]
    },
    {
      "cell_type": "code",
      "source": [
        "class A:\n",
        "  def __init__(self, item):\n",
        "    self.item = item\n",
        "  def whoAmI(self):\n",
        "    print('I am an instance of A')\n",
        "\n",
        "class B:\n",
        "  def __init__(self, item):\n",
        "    self.item = item\n",
        "  def whoAmI(self):\n",
        "    print('I am an instance of B')\n",
        "\n",
        "a = A(2)\n",
        "b = B(3)"
      ],
      "metadata": {
        "id": "Llp_CJ0bKXMf"
      },
      "execution_count": null,
      "outputs": []
    },
    {
      "cell_type": "code",
      "source": [
        "b.whoAmI()"
      ],
      "metadata": {
        "colab": {
          "base_uri": "https://localhost:8080/"
        },
        "id": "lhPt33-aKXYP",
        "outputId": "da6e41cd-0e01-4b3e-b21e-c20e70eb1212"
      },
      "execution_count": null,
      "outputs": [
        {
          "output_type": "stream",
          "name": "stdout",
          "text": [
            "I am an instance of B\n"
          ]
        }
      ]
    },
    {
      "cell_type": "code",
      "source": [
        "class Animal:\n",
        "  def __init__(self):\n",
        "    print('Animal created')\n",
        "  def whoAmI(self):\n",
        "    print('I am an animal')\n",
        "\n",
        "class Bird(Animal):\n",
        "  def __init__(self):\n",
        "    super().__init__()\n",
        "    print('Bird created')\n",
        "  def fly(self):\n",
        "    print('Birds can fly')\n"
      ],
      "metadata": {
        "id": "7jLx5OMJSuHq"
      },
      "execution_count": null,
      "outputs": []
    },
    {
      "cell_type": "code",
      "source": [
        "a = Animal()\n",
        "b = Bird()"
      ],
      "metadata": {
        "colab": {
          "base_uri": "https://localhost:8080/"
        },
        "id": "HSC4mbfxSuKN",
        "outputId": "3972a569-464b-41cf-c541-658f55e7c3d9"
      },
      "execution_count": null,
      "outputs": [
        {
          "output_type": "stream",
          "name": "stdout",
          "text": [
            "Animal created\n",
            "Animal created\n",
            "Bird created\n"
          ]
        }
      ]
    },
    {
      "cell_type": "code",
      "source": [
        "b.fly()"
      ],
      "metadata": {
        "colab": {
          "base_uri": "https://localhost:8080/"
        },
        "id": "Xni0qopETWMx",
        "outputId": "d0585320-ad35-4f31-92fa-de993d8dc12c"
      },
      "execution_count": null,
      "outputs": [
        {
          "output_type": "stream",
          "name": "stdout",
          "text": [
            "Birds can fly\n"
          ]
        }
      ]
    },
    {
      "cell_type": "code",
      "source": [],
      "metadata": {
        "id": "XwcT5znVSuMj"
      },
      "execution_count": null,
      "outputs": []
    },
    {
      "cell_type": "code",
      "source": [],
      "metadata": {
        "id": "IvvUUJ_9SuOp"
      },
      "execution_count": null,
      "outputs": []
    },
    {
      "cell_type": "code",
      "source": [],
      "metadata": {
        "id": "9eokjNjrSuQd"
      },
      "execution_count": null,
      "outputs": []
    }
  ]
}