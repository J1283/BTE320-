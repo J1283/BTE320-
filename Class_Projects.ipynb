{
  "nbformat": 4,
  "nbformat_minor": 0,
  "metadata": {
    "colab": {
      "provenance": [],
      "authorship_tag": "ABX9TyPEn679Vye02SAw3F51tt4Y",
      "include_colab_link": true
    },
    "kernelspec": {
      "name": "python3",
      "display_name": "Python 3"
    },
    "language_info": {
      "name": "python"
    }
  },
  "cells": [
    {
      "cell_type": "markdown",
      "metadata": {
        "id": "view-in-github",
        "colab_type": "text"
      },
      "source": [
        "<a href=\"https://colab.research.google.com/github/J1283/BTE320-/blob/main/Class_Projects.ipynb\" target=\"_parent\"><img src=\"https://colab.research.google.com/assets/colab-badge.svg\" alt=\"Open In Colab\"/></a>"
      ]
    },
    {
      "cell_type": "markdown",
      "source": [
        "Rock Paper scissors"
      ],
      "metadata": {
        "id": "HMJdCXlTaILF"
      }
    },
    {
      "cell_type": "code",
      "execution_count": null,
      "metadata": {
        "id": "RwYhx5x14vh6"
      },
      "outputs": [],
      "source": [
        "from ast import Break\n",
        "import random\n",
        "play_a_game = input('play a Game')\n",
        "while play_a_game == 'Y':\n",
        "\n",
        "  user_choice = input(\"Enter your choice (rock, paper, or scissors): \")\n",
        "  computer_choice = random.choice([\"rock\", \"paper\", \"scissors\"])\n",
        "\n",
        "  print(f\"You chose: {user_choice}\")\n",
        "  print(f\"Computer chose: {computer_choice}\")\n",
        "\n",
        "  if user_choice == computer_choice:\n",
        "      print(\"It's a tie!\")\n",
        "  elif (\n",
        "      (user_choice == \"rock\" and computer_choice == \"scissors\") or\n",
        "      (user_choice == \"paper\" and computer_choice == \"rock\") or\n",
        "      (user_choice == \"scissors\" and computer_choice == \"paper\")\n",
        "  ):\n",
        "      print(\"You win!\")\n",
        "  else:\n",
        "      print(\"Computer wins!\")\n",
        "  play_a_game =input('play a Game')\n",
        "  if user_choice == 'N':\n",
        "    Break"
      ]
    },
    {
      "cell_type": "markdown",
      "source": [
        "Leap Year Calculation"
      ],
      "metadata": {
        "id": "YDIfEt_OaHI6"
      }
    },
    {
      "cell_type": "code",
      "source": [
        "year = int(input(\"Enter a year: \"))\n",
        "\n",
        "if (year % 4 == 0 and year % 100 != 0) or (year % 400 == 0):\n",
        "    print(f\"{year} is a leap year!\")\n",
        "else:\n",
        "    print(f\"{year} is not a leap year.\")"
      ],
      "metadata": {
        "id": "gkYr4c0A455g"
      },
      "execution_count": null,
      "outputs": []
    },
    {
      "cell_type": "markdown",
      "source": [
        "calculator"
      ],
      "metadata": {
        "id": "3G4XIlgsAw-x"
      }
    },
    {
      "cell_type": "code",
      "source": [
        "while True:\n",
        "  operator = input('enter an operator: ')\n",
        "  n1=float(input('first number'))\n",
        "  n2=float(input('second number'))\n",
        "  if operator == ('+'):\n",
        "    print(n1+n2)\n",
        "  elif operator == ('-'):\n",
        "    print(n1 - n2)\n",
        "  elif operator == ('*'):\n",
        "    print(n1*n2)\n",
        "  elif operator == ('/'):\n",
        "    print(n1/n2)\n",
        "  elif operator == ('//'):\n",
        "    print(n1//n2)\n",
        "  elif operator == ('**'):\n",
        "    print(n1**n2)\n",
        "  elif operator == ('%'):\n",
        "    print(n1%n2)\n",
        "  elif operator == 'break':\n",
        "    break\n",
        "  else:\n",
        "    print(f'Invalad operator: \\'(operator)\\'')\n",
        "    continue"
      ],
      "metadata": {
        "id": "T58JXLHD53j0"
      },
      "execution_count": null,
      "outputs": []
    },
    {
      "cell_type": "code",
      "source": [
        "while True:\n",
        "  userNum1 = float(input(\"Enter the first number: \"))\n",
        "  userOperator = str(input(\"Enter an operator: \"))\n",
        "\n",
        "  if userOperator == \"break\":\n",
        "    print(\"Thanks for using our calculator!\")\n",
        "    break\n",
        "\n",
        "  userNum2 = float(input(\"Enter a second number: \"))\n",
        "\n",
        "  if userOperator == \"+\":\n",
        "    answer = userNum1 + userNum2\n",
        "  elif userOperator == \"-\":\n",
        "    answer = userNum1 - userNum2\n",
        "  elif userOperator == \"*\":\n",
        "    answer = userNum1 * userNum2\n",
        "  elif userOperator == \"/\":\n",
        "    answer = userNum1 - userNum2\n",
        "    if userNum2 == 0:\n",
        "      print(\"Can't divide by zero. Try again.\")\n",
        "      continue\n",
        "    answer = userNum1 / userNum2\n",
        "  elif userOperator == \"//\":\n",
        "    if userNum2 == 0:\n",
        "      print(\"Can't divide by zero. Try again.\")\n",
        "      continue\n",
        "    answer = userNum1 // userNum2\n",
        "  elif userOperator == \"%\":\n",
        "      if userNum2 == 0:\n",
        "        print(\"Can't divide by zero. Try again.\")\n",
        "        continue\n",
        "      answer = userNum1 % userNum2\n",
        "  elif userOperator == \"**\":\n",
        "    answer = userNum1 ** userNum2\n",
        "  else:\n",
        "    print('Invalid operator: ', userOperator)\n",
        "    continue\n",
        "  print(answer)\n",
        ""
      ],
      "metadata": {
        "id": "CBKjx62u3bke"
      },
      "execution_count": null,
      "outputs": []
    },
    {
      "cell_type": "markdown",
      "source": [
        "Date Program"
      ],
      "metadata": {
        "id": "SPD1QjU-abb4"
      }
    },
    {
      "cell_type": "code",
      "source": [
        "date = input('enter a date: ')\n",
        "print(f'the month is{date[:2]}')\n",
        "print(f'the day is{date[3:5]}')\n",
        "print(f'the year is{date[6:]}')"
      ],
      "metadata": {
        "colab": {
          "base_uri": "https://localhost:8080/"
        },
        "id": "dhyG1PP-H8jh",
        "outputId": "103e8390-8b71-4bdb-a825-b11e6066073b"
      },
      "execution_count": null,
      "outputs": [
        {
          "output_type": "stream",
          "name": "stdout",
          "text": [
            "enter a date: 02/20/2024\n",
            "the month is02\n",
            "the day is20\n",
            "the year is2024\n"
          ]
        }
      ]
    },
    {
      "cell_type": "code",
      "source": [
        "s1 = 'abcdefg'\n",
        "s2 = 'abdght'\n",
        "\n",
        "for char in s1:\n",
        "  if char in s2:\n",
        "    print(char)\n",
        "\n",
        "for index in range(len(s1)):\n",
        "  if s1 [index] in s2:\n",
        "    print(s1[index])"
      ],
      "metadata": {
        "id": "wiLA937TWgEw"
      },
      "execution_count": null,
      "outputs": []
    },
    {
      "cell_type": "markdown",
      "source": [
        "List Creator"
      ],
      "metadata": {
        "id": "pq6AA6NTag1r"
      }
    },
    {
      "cell_type": "code",
      "source": [
        "2\n",
        "L = []\n",
        "\n",
        "number = int(input('enter a value: '))\n",
        "while (number!=0):\n",
        "  L.append(number)\n",
        "  number =int(input('enter a value'))\n",
        "print(L)\n",
        "\n"
      ],
      "metadata": {
        "id": "vcyFheN8Upxg"
      },
      "execution_count": null,
      "outputs": []
    },
    {
      "cell_type": "code",
      "source": [
        "List = []\n",
        "while True:\n",
        "  userinput = int(input('Enter an integer to append to the list: '))\n",
        "  if userinput == 0:\n",
        "    break\n",
        "  List.append(userinput)\n",
        "  print(f'Here is your current list: {List}')\n",
        "\n",
        "print(f'Here is your list: {List}')"
      ],
      "metadata": {
        "id": "JsvRGlJ2z6op"
      },
      "execution_count": null,
      "outputs": []
    },
    {
      "cell_type": "markdown",
      "source": [
        "Populating a dictionary with Two Variables"
      ],
      "metadata": {
        "id": "fDP-vzF_y8Bq"
      }
    },
    {
      "cell_type": "code",
      "source": [
        "months = {}\n",
        "\n",
        "numbers = [1,2,3,4,5,6,7,8,9,10,11,12]\n",
        "names = ['January', 'February', 'March', 'April', 'May', 'June', 'July', 'August', 'September', 'October', 'November', 'December']\n",
        "\n",
        "for i in range(len(numbers)):\n",
        "  months[numbers[i]]= names[i]\n",
        "\n",
        "print(months)"
      ],
      "metadata": {
        "colab": {
          "base_uri": "https://localhost:8080/"
        },
        "id": "oSddHH8Sy9Ns",
        "outputId": "631b9c43-e152-410c-8274-d8455e9bf442"
      },
      "execution_count": 11,
      "outputs": [
        {
          "output_type": "stream",
          "name": "stdout",
          "text": [
            "{1: 'January', 2: 'February', 3: 'March', 4: 'April', 5: 'May', 6: 'June', 7: 'July', 8: 'August', 9: 'September', 10: 'October', 11: 'November', 12: 'December'}\n"
          ]
        }
      ]
    },
    {
      "cell_type": "markdown",
      "source": [
        "Deposit with Interest Rates (might need to be fixed)"
      ],
      "metadata": {
        "id": "Tr1zznbTajx_"
      }
    },
    {
      "cell_type": "code",
      "source": [
        "deposit = float(input('enter deposit amount ($): '))\n",
        "if deposit > 10000:\n",
        "  IR = 3.5\n",
        "elif deposit > 1000:\n",
        "    IR = 3.25\n",
        "else:\n",
        "      IR = 3.0\n",
        "      total = (1+IR/100)* deposit\n",
        "      print(f'Total after interest applied: (total) $')"
      ],
      "metadata": {
        "id": "OifajTtgakJc"
      },
      "execution_count": null,
      "outputs": []
    },
    {
      "cell_type": "markdown",
      "source": [
        "Parking Garage Problem"
      ],
      "metadata": {
        "id": "amjloH9y_-qU"
      }
    },
    {
      "cell_type": "code",
      "source": [
        "def getparkingHours():\n",
        "  return int(input('Enter number of hours: '))\n",
        "\n",
        "def calcParkingFee(hours):\n",
        "  minfee = 6\n",
        "  maxfee = 20\n",
        "  parkingfee = 2.5 * hours\n",
        "  if parkingfee <= 6:\n",
        "    return minfee\n",
        "  elif parkingfee >= 20:\n",
        "    return maxfee\n",
        "  else:\n",
        "    return parkingfee\n",
        "\n",
        "hours = getparkingHours()\n",
        "fee = calcParkingFee(hours)\n",
        "print(f'Total charge: ${fee}')\n"
      ],
      "metadata": {
        "colab": {
          "base_uri": "https://localhost:8080/"
        },
        "id": "3E8PPWdp_-So",
        "outputId": "91737243-a7ea-4aeb-ebd9-c38f918b5709"
      },
      "execution_count": 1,
      "outputs": [
        {
          "output_type": "stream",
          "name": "stdout",
          "text": [
            "Enter number of hours: 5\n",
            "Total charge: $12.5\n"
          ]
        }
      ]
    },
    {
      "cell_type": "code",
      "source": [
        "for hour in range(1,9):\n",
        "  fee = 5 +2.5*hour\n",
        "  if fee<10:\n",
        "    fee = 10.0\n",
        "  elif fee>20:\n",
        "    fee = 20.0\n",
        "  print (f'{hour} ${fee}')"
      ],
      "metadata": {
        "colab": {
          "base_uri": "https://localhost:8080/"
        },
        "id": "p386kBSfyPv0",
        "outputId": "d042613f-87ce-4e1a-b1e1-41ab53632131"
      },
      "execution_count": 6,
      "outputs": [
        {
          "output_type": "stream",
          "name": "stdout",
          "text": [
            "1 $10.0\n",
            "2 $10.0\n",
            "3 $12.5\n",
            "4 $15.0\n",
            "5 $17.5\n",
            "6 $20.0\n",
            "7 $20.0\n",
            "8 $20.0\n"
          ]
        }
      ]
    },
    {
      "cell_type": "markdown",
      "source": [
        "Movie Theater"
      ],
      "metadata": {
        "id": "I2_GI0R7FlSg"
      }
    },
    {
      "cell_type": "code",
      "source": [
        "print(f'ad$ Profit')\n",
        "\n",
        "init_attendees = 20\n",
        "fixed_cost = 200\n",
        "\n",
        "for advertising in range(0, 201, 25):\n",
        "  ad = float(advertising)\n",
        "  attendees = float(2*round(advertising**0.5) + init_attendees)\n",
        "  profit = float((attendees*10) - advertising - fixed_cost)\n",
        "  print(f'{ad} ${profit}')"
      ],
      "metadata": {
        "colab": {
          "base_uri": "https://localhost:8080/"
        },
        "id": "QA2GlMC3Fldt",
        "outputId": "2918b484-be1e-4d2e-f970-08af71583abd"
      },
      "execution_count": 3,
      "outputs": [
        {
          "output_type": "stream",
          "name": "stdout",
          "text": [
            "ad$ Profit\n",
            "0.0 $0.0\n",
            "25.0 $75.0\n",
            "50.0 $90.0\n",
            "75.0 $105.0\n",
            "100.0 $100.0\n",
            "125.0 $95.0\n",
            "150.0 $90.0\n",
            "175.0 $85.0\n",
            "200.0 $80.0\n"
          ]
        }
      ]
    },
    {
      "cell_type": "markdown",
      "source": [
        "Deposit with Interest Rates"
      ],
      "metadata": {
        "id": "i9IXAEDB1gNN"
      }
    },
    {
      "cell_type": "code",
      "source": [
        "Name = input('Hi, please enter your name: ')\n",
        "Customer_type = input('enter customer type (n: new, e:existing): ')\n",
        "Deposit = float(input(\"Enter deposit amount: $\"))\n",
        "\n",
        "if Customer_type == 'n':\n",
        "  Interest = 0.03\n",
        "else:\n",
        "  if Deposit <= 1000:\n",
        "    Interest = float(0.03)\n",
        "  elif Deposit <= 10000:\n",
        "    Interest = float(0.0325)\n",
        "  elif Deposit > 10000:\n",
        "    Interest = float(0.035)\n",
        "\n",
        "Amount = (1 + Interest) + Deposit\n",
        "print(f'{Name}, you will have ${round(Amount,2)} in your account')\n",
        "\n",
        "\n"
      ],
      "metadata": {
        "id": "rSb49hSN1ePs"
      },
      "execution_count": null,
      "outputs": []
    }
  ]
}