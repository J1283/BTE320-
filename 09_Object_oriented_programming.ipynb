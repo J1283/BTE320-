{
  "cells": [
    {
      "cell_type": "markdown",
      "metadata": {
        "id": "view-in-github",
        "colab_type": "text"
      },
      "source": [
        "<a href=\"https://colab.research.google.com/github/J1283/BTE320-/blob/main/09_Object_oriented_programming.ipynb\" target=\"_parent\"><img src=\"https://colab.research.google.com/assets/colab-badge.svg\" alt=\"Open In Colab\"/></a>"
      ]
    },
    {
      "cell_type": "markdown",
      "id": "38920c44",
      "metadata": {
        "id": "38920c44"
      },
      "source": [
        "# Object-Oriented Programming\n",
        "\n",
        "**Object-oriented Programming (OOP)** is a programming paradigm based on the concept of *objects*, which can contain data and code:\n",
        "- Data in the form of fields (a.k.a. *attributes* or *properties*).\n",
        "- Code in the form of procedures (in Python, we call them *methods*).\n",
        "\n",
        "OOP uses **objects** and **classes** in programming, which aims to implement real-world entities such as:\n",
        "- **inheritance**\n",
        "- **polymorphism**\n",
        "- **encapsulation**\n",
        "- ... and more.\n",
        "\n",
        "**Main idea:** Bind data and functions that work together in a *single unit*.\n",
        "\n",
        "It is a widely used programming paradigm to write powerful applications.\n",
        "- Models complex things as reproducible, simple structures that enables code reusability, scalability and efficiency.\n",
        "\n",
        "In this lecture, and the next, we will learn the fundamental concepts of OOP basics, as well as inheritance, polymorphism, and encapsulation."
      ]
    },
    {
      "cell_type": "code",
      "source": [
        "class Vehicle:\n",
        "  # This is the constructor method; used to initialize the\n",
        "  # attributes (a.k.a. data) of class instances (a.k.a. objects)\n",
        "  def __init__(self, n_wheels, n_seats, engine, pedals, dims):\n",
        "    # Setting up (initializing) attributes\n",
        "    self.n_wheels = n_wheels\n",
        "    self.seats = n_seats\n",
        "    self.engine = engine\n",
        "    self.pedals = pedals\n",
        "    self.dims = dims\n",
        "    self.model = None\n",
        "\n",
        "  def acc(self):\n",
        "    print(\"The vehicle is accelerating\")\n",
        "\n",
        "  def dec(self):\n",
        "    print(\"The vehivle is decelerating\")"
      ],
      "metadata": {
        "id": "KyoxIqTZJU7V"
      },
      "id": "KyoxIqTZJU7V",
      "execution_count": 2,
      "outputs": []
    },
    {
      "cell_type": "code",
      "source": [
        "v = Vehicle(4, 4, 'ICE', 3, [1,2,3])\n",
        "v.acc()"
      ],
      "metadata": {
        "id": "ZF_KQWeuP7cd"
      },
      "id": "ZF_KQWeuP7cd",
      "execution_count": null,
      "outputs": []
    },
    {
      "cell_type": "code",
      "source": [
        "class car:\n",
        "  def __init__(self, make, model, year):\n",
        "    self.make = make\n",
        "    self.model = model\n",
        "    self.year = year\n",
        "    self.utility = 'SUV'\n",
        "\n",
        "  def accelerate(self):\n",
        "    print(f'The {self.make} car accelerates.')\n",
        "\n"
      ],
      "metadata": {
        "id": "4zWgZPapDFY-"
      },
      "id": "4zWgZPapDFY-",
      "execution_count": 38,
      "outputs": []
    },
    {
      "cell_type": "code",
      "source": [
        "c = car('Ford', 150, '2023')\n",
        "d = car('Chrysler', 300, '2020')\n"
      ],
      "metadata": {
        "id": "XUec37hjEqTT"
      },
      "id": "XUec37hjEqTT",
      "execution_count": 40,
      "outputs": []
    },
    {
      "cell_type": "code",
      "source": [
        "c.accelerate()"
      ],
      "metadata": {
        "colab": {
          "base_uri": "https://localhost:8080/"
        },
        "id": "mDY3I1-iGRAu",
        "outputId": "3eab0b32-a003-4da4-f2f9-63bb9be8f125"
      },
      "id": "mDY3I1-iGRAu",
      "execution_count": 42,
      "outputs": [
        {
          "output_type": "stream",
          "name": "stdout",
          "text": [
            "The Ford car accelerates.\n"
          ]
        }
      ]
    },
    {
      "cell_type": "code",
      "source": [
        "car.accelerate(c)"
      ],
      "metadata": {
        "colab": {
          "base_uri": "https://localhost:8080/"
        },
        "id": "ndFVSyX5G8v9",
        "outputId": "7e42cd17-585b-47d2-8062-553cdb4ff4b0"
      },
      "id": "ndFVSyX5G8v9",
      "execution_count": 32,
      "outputs": [
        {
          "output_type": "stream",
          "name": "stdout",
          "text": [
            "The Ford car accelerates.\n"
          ]
        }
      ]
    },
    {
      "cell_type": "code",
      "source": [
        "c.make"
      ],
      "metadata": {
        "colab": {
          "base_uri": "https://localhost:8080/",
          "height": 35
        },
        "id": "jbFih43eHYQJ",
        "outputId": "3cb8d4c7-05b3-49a9-ac1c-3c982b4a890b"
      },
      "id": "jbFih43eHYQJ",
      "execution_count": 24,
      "outputs": [
        {
          "output_type": "execute_result",
          "data": {
            "text/plain": [
              "'Ford'"
            ],
            "application/vnd.google.colaboratory.intrinsic+json": {
              "type": "string"
            }
          },
          "metadata": {},
          "execution_count": 24
        }
      ]
    },
    {
      "cell_type": "markdown",
      "source": [
        "## OOP Basics\n",
        "\n",
        "Python is an object-oriented programming language.\n",
        "\n",
        "Everything in Python is an object.\n",
        "\n",
        "Python objects are characterized by:\n",
        "- Attributes (properties).\n",
        "- Behaviors (methods).\n",
        "\n",
        "Let's think of those using a real-world example:\n",
        "\n",
        "\n",
        "*A penguin has attributes like: name, age, height, weight, color, family, etc. These are the properties that define a penguin. It also has behaviors like: swim, walk, sing, dance, etc.*\n",
        "\n"
      ],
      "metadata": {
        "id": "XtrL-ESAYppp"
      },
      "id": "XtrL-ESAYppp"
    },
    {
      "cell_type": "markdown",
      "id": "6633846f-463b-4cfb-ad1e-371cc285e90b",
      "metadata": {
        "id": "6633846f-463b-4cfb-ad1e-371cc285e90b"
      },
      "source": [
        "There are several human aspects that might speak for the use of OOP:\n",
        "\n",
        "- Natural way of thinking\n",
        "    * Human thinking typically evolves around real-world or abstract objects, like a car or a financial instrument. OOP is suited to modeling such objects with their characteristics.\n",
        "\n",
        "- Reducing complexity\n",
        "    * Via different approaches, OOP helps to reduce the complexity of a problem or algorithm and to model it feature-by-feature.\n",
        "\n",
        "- Nicer user interfaces\n",
        "    * OOP allows in many cases for nicer user interfaces and more compact code. This becomes evident, for example, when looking at the NumPy ndarray class or pandas DataFrame class.\n",
        "\n",
        "- Pythonic modeling\n",
        "    * Dominant paradigm in Python. OOP allows the programmer to build custom classes whose instances behave like every other instance of a standard Python class.\n",
        "\n",
        "\n",
        "\n",
        "There are also several technical aspects that might speak for OOP:\n",
        "\n",
        "- Abstraction\n",
        "    * The use of attributes and methods allows building abstract, flexible models of objects, with a focus on what is relevant and neglecting what is not needed. In finance, this might mean having a general class that models a financial instrument in abstract fashion. Instances of such a class would then be concrete financial products, engineered and offered by an investment bank, for example.\n",
        "\n",
        "- Modularity\n",
        "    * OOP simplifies breaking code down into multiple modules which are then linked to form the complete codebase. For example, modeling a European option on a stock could be achieved by a single class or by two classes, one for the underlying stock and one for the option itself.\n",
        "\n",
        "- Inheritance\n",
        "    * Inheritance refers to the concept that one class can inherit attributes and methods from another class. In finance, starting with a general financial instrument, the next level could be a general derivative instrument, then a European option, then a European call option. Every class might inherit attributes and methods from class(es) on a higher level.\n",
        "\n",
        "- Aggregation\n",
        "    * Aggregation refers to the case in which an object is at least partly made up of multiple other objects that might exist independently. A class modeling a European call option might have as attributes other objects for the underlying stock and the relevant short rate for discounting. The objects representing the stock and the short rate can be used independently by other objects as well.\n",
        "\n",
        "- Composition\n",
        "    * Composition is similar to aggregation, but here the single objects cannot exist independently of each other. Consider a custom-tailored interest rate swap with a fixed leg and a floating leg. The two legs do not exist independently of the swap itself.\n",
        "\n",
        "- Polymorphism\n",
        "    * Polymorphism can take on multiple forms. Of particular importance in a Python context is what is called duck typing. This refers to the fact that standard operations can be implemented on many different classes and their instances without knowing exactly what object one is dealing with. For a class of financial instruments this might mean that one can call a method `get_current_price()` independent of the specific type of the object (stock, option, swap).\n",
        "\n",
        "- Encapsulation\n",
        "    * This concept refers to the approach of making data within a class *private* and only accessible via public methods. A class modeling a stock might have an attribute `current_stock_price`. Encapsulation would then give access to the attribute value via a method `get_current_stock_price()` and would hide the data itself from the user. This approach might avoid unintended effects by simply working with and possibly changing attribute values.\n",
        "\n",
        "\n",
        "On a somewhat higher level, many of these aspects can be summarized by two general goals in software engineering:\n",
        "\n",
        "- Reusability\n",
        "    * Concepts like inheritance and polymorphism improve code reusability and increase the efficiency and productivity of the programmer. They also simplify code maintenance.\n",
        "\n",
        "- Nonredundancy\n",
        "    * At the same time, these approaches allow one to build almost nonredundant code, avoiding double implementation effort and reducing debugging and testing effort as well as maintenance effort. They might also lead to a smaller overall codebase."
      ]
    },
    {
      "cell_type": "markdown",
      "id": "8e317c40",
      "metadata": {
        "id": "8e317c40"
      },
      "source": [
        "### Class\n",
        "\n",
        "A class is a *blueprint* for creating objects. It is the template for creating objects. It tells how the objects are going to look like.\n",
        "\n",
        "**Example:** A house is an *object*. The architectural drawing of that house is the *class*.\n",
        "\n",
        "To create a class in Python, we use the keyword `class`. Then, we give a name to the class and open the class scope with a colon (`:`)\n",
        "\n",
        "```python\n",
        "class MyFirstClass:\n",
        "  # definition of attributes and methods\n",
        "```\n",
        "\n",
        "Let's define a class for the penguin we talked about:"
      ]
    },
    {
      "cell_type": "code",
      "source": [
        "class Penguin:\n",
        "  #..."
      ],
      "metadata": {
        "id": "uOkky86BbpFo"
      },
      "id": "uOkky86BbpFo",
      "execution_count": null,
      "outputs": []
    },
    {
      "cell_type": "markdown",
      "id": "a93e2efa",
      "metadata": {
        "id": "a93e2efa"
      },
      "source": [
        "### Object\n",
        "\n",
        "An **object** is an instance of the **class**.\n",
        "\n",
        "*Instantiate* is a technical term and it means \"creating objects from classes\".\n",
        "\n",
        "We create objects by calling class **constructors** (more on that later).\n",
        "\n",
        "Having defined tha class Penguin above, to create an object of it we say:\n",
        "\n",
        "```python\n",
        "peng = Penguin()\n",
        "```"
      ]
    },
    {
      "cell_type": "code",
      "execution_count": null,
      "id": "b9213a85-33fd-4a3c-9827-3a1c196a637c",
      "metadata": {
        "tags": [],
        "id": "b9213a85-33fd-4a3c-9827-3a1c196a637c"
      },
      "outputs": [],
      "source": [
        "peng = Penguin()"
      ]
    },
    {
      "cell_type": "markdown",
      "source": [
        "### Class attribute\n",
        "\n",
        "The attributes that describe what classes **have**.\n",
        "\n",
        "For the Penguin example, it could be their scientific family, or the number of legs.\n",
        "\n",
        "Class attributes are defined at class level which means they are not nested in any method (more on that later).\n",
        "\n",
        "### Instance attribute\n",
        "\n",
        "Attributes that are special to each individual class.\n",
        "\n",
        "For penguins are: age, color, height, weight, etc.\n",
        "\n",
        "Instance attributes are owned by the specific instances (objects) of a class.\n",
        "\n",
        "They are defined in methods.\n",
        "\n",
        "### Methods\n",
        "\n",
        "Functions that are defined in a class.\n",
        "\n",
        "They dictate the behavior of class instances.\n",
        "\n",
        "There are two types: class methods and instance methods.\n",
        "\n",
        "Let's see a bird's eye example:\n",
        "\n",
        "```python\n",
        "class Penguin:\n",
        "  # instance attributes\n",
        "  def __init__(self, name, age, color):\n",
        "    self.name = name\n",
        "    self.age = age\n",
        "    self.color = color\n",
        "```"
      ],
      "metadata": {
        "id": "7BOrhBItb_Kq"
      },
      "id": "7BOrhBItb_Kq"
    },
    {
      "cell_type": "markdown",
      "id": "561dfd8f",
      "metadata": {
        "id": "561dfd8f"
      },
      "source": [
        "# Example: Class Coordinate\n",
        "\n",
        "Let's now discuss another example. Suppose we want to define a class `Coordinate` which allow us to create instances of points in a 2-dimensional map.\n",
        "\n",
        "```python\n",
        "class Coordinate:\n",
        "  def __init__(self, x, y): # self: parameter to refer to an instance of the class; x, y: data that initialize the class\n",
        "      # Two data attributes (self.x, self.y) for every Coordinate object\n",
        "      self.x = x\n",
        "      self.y = y\n",
        "```\n",
        "\n",
        "The first method we see in a class definition is the **special method `__init__`**.\n",
        "\n",
        "This is the **constructor** for the classes in Python.\n",
        "\n",
        "Its parameters are **`self, x, y`**.\n",
        "- It means that when we create a Coordinate, we should pass the **`x, y`** numerical values.\n",
        "\n",
        "Here, one parameter is different from the others and it's extremely important, **`self`**.\n",
        "\n",
        "**`self`:** Represents the current object that is being created. It is a reference to the current instance of the class, and is used to access variables that belong to the class.\n",
        "\n",
        "`self` is **not** a keyword, therefore it does not have to be named as such and we can call it whatever we like. **Regardless**, it has to be the **first parameter of any function** in the class.\n",
        "\n",
        "**Note:** *While `self` is not a keyword, it is historically used to represent a class instance. Hence, it is strongly advised not to use any other name(s) for this parameter.*\n",
        "\n",
        "In the `__init__()` method, we assign the incoming parameters to the current object which we simply call as **self**.\n",
        "- The first assignment is `self.x = x`.\n",
        "  * This statement creates an instance attribute called `x` and assigns the value of the `x` parameter.\n",
        "- The same goes for `self.y`"
      ]
    },
    {
      "cell_type": "code",
      "execution_count": null,
      "id": "f55b6e52-287d-418d-ac4f-6c7932a1acc6",
      "metadata": {
        "tags": [],
        "id": "f55b6e52-287d-418d-ac4f-6c7932a1acc6"
      },
      "outputs": [],
      "source": [
        "class Coordinate:\n",
        "  def __init__(self, x, y): # self: parameter to refer to an instance of the class; x, y: data that initialize the class\n",
        "      # Two data attributes (self.x, self.y) for every Coordinate object\n",
        "      self.x = x\n",
        "      self.y = y"
      ]
    },
    {
      "cell_type": "markdown",
      "source": [
        "Let's now create two instances of the `Coordinate` class and see how we access their attributes."
      ],
      "metadata": {
        "id": "yZY0Rq_Ljda3"
      },
      "id": "yZY0Rq_Ljda3"
    },
    {
      "cell_type": "code",
      "source": [
        "c = Coordinate(3,5)\n",
        "origin = Coordinate(0,0)"
      ],
      "metadata": {
        "id": "aS3cZ_zG4vxZ"
      },
      "id": "aS3cZ_zG4vxZ",
      "execution_count": null,
      "outputs": []
    },
    {
      "cell_type": "markdown",
      "source": [
        "The code above actually calls the `__init__()` method (remember that this is the class *constructor*).\n",
        "\n",
        "For parameters `x, y` we pass `3, 5, 0, 0`.\n",
        "\n",
        "**Note:** We **do not** pass anything for the first parameter `self`.\n",
        "\n",
        "**Note 2:** *All attributes defined **within** the constructor are instance attributes*\n",
        "\n",
        "Now that we have the objects created, let's print their instance attributes.\n",
        "- To access an instance attribute of an object, the syntax is: **`object.attribute`**.\n",
        "  * Example: to access the `x` coordinate of instance `c` we type `c.x`\n"
      ],
      "metadata": {
        "id": "jA2O5XQ3jsR1"
      },
      "id": "jA2O5XQ3jsR1"
    },
    {
      "cell_type": "code",
      "source": [
        "print(f'Value of x-coordinate of point c: {c.x}')\n",
        "print(f'Value of y-coordinate of point origin: {origin.y}')"
      ],
      "metadata": {
        "id": "N1npcXFB5Um_",
        "colab": {
          "base_uri": "https://localhost:8080/"
        },
        "outputId": "7cd50dba-77ed-41c7-b990-10941b87977c"
      },
      "id": "N1npcXFB5Um_",
      "execution_count": null,
      "outputs": [
        {
          "output_type": "stream",
          "name": "stdout",
          "text": [
            "Value of x-coordinate of point c: 3\n",
            "Value of y-coordinate of point origin: 0\n"
          ]
        }
      ]
    },
    {
      "cell_type": "markdown",
      "source": [
        "### `__init__(self, ...)`\n",
        "\n",
        "When we create an object from a class, the first method called is the `__init__()`.\n",
        "\n",
        "Being the *constructor* method, `__init__()` creates an instance of the class.\n",
        "\n",
        "Every Python class has an `__init__()` method, which we either define explicitly, or is defined implicitly by Python (the latter will become more clear when we will discuss about *inheritance*).\n",
        "\n",
        "The first constructor parameter will **always** be `self`. The same applies to every method defined within the class (unless it is a *static method*, don't worry about that for now).\n",
        "\n",
        "After declaring `self`, we can declare any other parameters we want the class to accept."
      ],
      "metadata": {
        "id": "ph1mb8I8pbU9"
      },
      "id": "ph1mb8I8pbU9"
    },
    {
      "cell_type": "markdown",
      "id": "e3b42b33-7684-4beb-b282-d9490c713656",
      "metadata": {
        "id": "e3b42b33-7684-4beb-b282-d9490c713656"
      },
      "source": [
        "**Comments and revision**\n",
        "- What is `self`?\n",
        "  * `self` is used to represent the instance of the class.\n",
        "  * Using `self`, one can access the attributes and methods of the class.\n",
        "  * Binds the attributes with the given arguments.\n",
        "  * `self` is not a keyword in Python.\n",
        "\n",
        "- What is `__init__`?\n",
        "  * Constructor method automatically called to allocate memory when a new object/instance is created.\n",
        "  * All classes have a `__init__` method associated with them.\n",
        "  * Helps in distinguishing methods and attributes of a class from local variables."
      ]
    },
    {
      "cell_type": "markdown",
      "id": "640fb862",
      "metadata": {
        "id": "640fb862"
      },
      "source": [
        "## Access methods\n",
        "\n",
        "Accessing a method follows a similar logic with accessing attributes: **`object.method(method_parameter(s))`**.\n",
        "\n",
        "Let's add a method in the class `Coordinate` that simply returns the value of the `x` coordinate:\n",
        "\n",
        "```python\n",
        "class Coordinate:\n",
        "  def __init__(self, x, y):\n",
        "    self.x = x\n",
        "    self.y = y\n",
        "  def get_x(self):\n",
        "    return self.x\n",
        "\n",
        "c = Coordinate(3, 5)\n",
        "print(c.get_x())\n",
        "```\n",
        "\n",
        "In the example above, we added the method `get_x()` to class `Coordinate`.\n",
        "\n",
        "This method returns the value of `x` coordinate.\n",
        "\n",
        "**Note:** As we see, even if a method requires no *external* parameter inputs, `self` has to be there. Otherwise, no class instance would be able to access the method.\n",
        "\n",
        "After creating instance `c`, we printed the `x` coordinate by typing `c.get_x()`. Again, no inputs are given, `self` applies to `c`.\n",
        "\n",
        "**Note 2:** `c.get_x()` is equivalent with typing `Coordinate.get_x(c)`\n",
        "- We see here how `c` $⟷$ `self`.\n",
        "\n",
        "\n",
        "### `self` and `other`\n",
        "\n",
        "As we saw above, `self` is a mandatory parameter that represents the instance of the class we are currently working on.\n",
        "- E.g., for accessing the `x` value of `c`, we typed `c.x`. The instance name `c` is the \"input\" given to `self`.\n",
        "- For getting the `x` value via method `get_x()`, we typed `c.get_x()`.\n",
        "\n",
        "However, what if we simply want to access and use attributes of a class instance **passively** within a class?\n",
        "- Suppose, for example, that we want to find the distance between `c` and `origin`. To do that, we have to define a method `distance()` within class `Coordinate` that does that.\n",
        "  * However, there is only one `self` parameter; that means that either `c` or `origin` will \"call\" the method (`c.distance(...)`).\n",
        "  * In this case, one of the instances (let's say `c`, but it can be any of them) calls the method; the other instance is given as a parameter: `c.distance(origin)`\n",
        "\n",
        "In this case, we need to define a parameter that will correspond to the \"other\" instance.\n",
        "\n",
        "Historically, though again it's not a keyword, Python developers name this parameter as `other`.\n",
        "\n",
        "In general:\n",
        "- `self` : an argument expected to be the instance from which the method was called.\n",
        "- `other` : an argument expected to be an instance of the class, but not the one calling the method."
      ]
    },
    {
      "cell_type": "code",
      "execution_count": null,
      "id": "29e03deb-45a3-4127-94e2-e25d326f2e14",
      "metadata": {
        "tags": [],
        "id": "29e03deb-45a3-4127-94e2-e25d326f2e14"
      },
      "outputs": [],
      "source": [
        "class Coordinate(object):\n",
        "    def __init__(self, x, y):\n",
        "        self.x = x\n",
        "        self.y = y\n",
        "\n",
        "    def distance(self, other): # self: use it to refer to any instance; other: another parameter to method\n",
        "        x_diff_sq = (self.x - other.x)**2\n",
        "        y_diff_sq = (self.y - other.y)**2\n",
        "\n",
        "        return (x_diff_sq + y_diff_sq)**0.5"
      ]
    },
    {
      "cell_type": "markdown",
      "id": "99095fda-b27d-4ae2-8b54-1facbd686c3b",
      "metadata": {
        "tags": [],
        "id": "99095fda-b27d-4ae2-8b54-1facbd686c3b"
      },
      "source": [
        "**Comment on methods:**\n",
        "\n",
        "Other than `self` and dot notation, methods behave just like functions (take parameters, do operations, `return`)"
      ]
    },
    {
      "cell_type": "markdown",
      "id": "2b71a06b",
      "metadata": {
        "id": "2b71a06b"
      },
      "source": [
        "Below, more examples are given of creating `Coordinate` instances and using its methods."
      ]
    },
    {
      "cell_type": "code",
      "execution_count": null,
      "id": "049a582d-17b8-4d8c-a454-ae5dc2f1de21",
      "metadata": {
        "tags": [],
        "id": "049a582d-17b8-4d8c-a454-ae5dc2f1de21",
        "colab": {
          "base_uri": "https://localhost:8080/"
        },
        "outputId": "2520c0e1-ae37-419a-b059-3bc6a6c35130"
      },
      "outputs": [
        {
          "output_type": "stream",
          "name": "stdout",
          "text": [
            "5.0\n"
          ]
        }
      ],
      "source": [
        "# Conventional way\n",
        "c = Coordinate(3, 4)\n",
        "zero = Coordinate(0, 0)\n",
        "\n",
        "# c: object to call method\n",
        "# distance: name of method\n",
        "# zero: parameters not including\n",
        "# self (implied to be c)\n",
        "print(c.distance(zero))"
      ]
    },
    {
      "cell_type": "code",
      "source": [
        "Coordinate.distance(c, zero)"
      ],
      "metadata": {
        "id": "jUX6ORlsSr6b",
        "colab": {
          "base_uri": "https://localhost:8080/"
        },
        "outputId": "68186e3e-2c0b-4941-80e2-fb02acdc72ad"
      },
      "id": "jUX6ORlsSr6b",
      "execution_count": null,
      "outputs": [
        {
          "output_type": "execute_result",
          "data": {
            "text/plain": [
              "5.0"
            ]
          },
          "metadata": {},
          "execution_count": 6
        }
      ]
    },
    {
      "cell_type": "code",
      "source": [
        "zero.distance(c)"
      ],
      "metadata": {
        "id": "01k3dO6tkALP",
        "colab": {
          "base_uri": "https://localhost:8080/"
        },
        "outputId": "2306a57d-eaa4-4e06-e241-16dff8d85f43"
      },
      "id": "01k3dO6tkALP",
      "execution_count": null,
      "outputs": [
        {
          "output_type": "execute_result",
          "data": {
            "text/plain": [
              "5.0"
            ]
          },
          "metadata": {},
          "execution_count": 7
        }
      ]
    },
    {
      "cell_type": "code",
      "source": [
        "print(c)"
      ],
      "metadata": {
        "id": "liUVXTSYAIAb",
        "colab": {
          "base_uri": "https://localhost:8080/"
        },
        "outputId": "fc269840-1f39-495e-9487-7d8c1f3b7832"
      },
      "id": "liUVXTSYAIAb",
      "execution_count": null,
      "outputs": [
        {
          "output_type": "stream",
          "name": "stdout",
          "text": [
            "<__main__.Coordinate object at 0x7e548b679de0>\n"
          ]
        }
      ]
    },
    {
      "cell_type": "markdown",
      "id": "fca0db93",
      "metadata": {
        "id": "fca0db93"
      },
      "source": [
        "# Print representation of an object"
      ]
    },
    {
      "cell_type": "markdown",
      "id": "c91b24fe-ea70-4042-a442-3b330d3c1390",
      "metadata": {
        "tags": [],
        "id": "c91b24fe-ea70-4042-a442-3b330d3c1390"
      },
      "source": [
        "If we want to `print()` a class instance, the return value is\n",
        "**uninformative** by default.\n",
        "\n",
        "The following:\n",
        "```python\n",
        "c = Coordinate(3, 4)\n",
        "print(c)\n",
        "```\n",
        "returns `<__main__.Coordinate object at 0x7f3a4f1d6ee0>`\n",
        "\n",
        "That prompt shows basically information of instance `c` (an instance of class `Coordinate`) that is stored in memory location `0x7f3a4f1d6ee0`.\n",
        "\n",
        "However, that is not very helpful. We can do better, by modifying the special method `__str__()`.\n",
        "\n",
        "**Note:** *Every method that its name has double underscores preceding and following it are special methods. `__init__()` is such a special method.*\n",
        "\n",
        "Python calls the `__str__()` method when we  `print()` a class object.\n",
        "\n",
        "So, we can choose what this method does!\n",
        "- *Example:* we want to display `<3, 4>` when `print(c)`"
      ]
    },
    {
      "cell_type": "code",
      "execution_count": null,
      "id": "8c135a39-3ccd-457e-be33-9b29c2355b70",
      "metadata": {
        "tags": [],
        "id": "8c135a39-3ccd-457e-be33-9b29c2355b70"
      },
      "outputs": [],
      "source": [
        "c = Coordinate(3, 4)\n",
        "print(c)"
      ]
    },
    {
      "cell_type": "markdown",
      "id": "2d2df5cc",
      "metadata": {
        "id": "2d2df5cc"
      },
      "source": [
        "Doing it is very simple. In the class definition, we define method `__str__()` as:\n",
        "```python\n",
        "def __str__(self):\n",
        "  ...\n",
        "```\n",
        "\n",
        "Let's see an example:"
      ]
    },
    {
      "cell_type": "code",
      "execution_count": null,
      "id": "608b7c1a",
      "metadata": {
        "tags": [],
        "id": "608b7c1a",
        "colab": {
          "base_uri": "https://localhost:8080/"
        },
        "outputId": "a63b49a3-a7ab-4099-f82a-6aaa937aadaf"
      },
      "outputs": [
        {
          "output_type": "stream",
          "name": "stdout",
          "text": [
            "<0, 0>\n"
          ]
        }
      ],
      "source": [
        "class Coordinate(object):\n",
        "    def __init__(self, x, y):\n",
        "        self.x = x\n",
        "        self.y = y\n",
        "\n",
        "    def distance(self, other): # self: use it to refer to any instance; other: another parameter to method\n",
        "        x_diff_sq = (self.x - other.x)**2\n",
        "        y_diff_sq = (self.y - other.y)**2\n",
        "\n",
        "        return (x_diff_sq + y_diff_sq)**0.5\n",
        "\n",
        "    def __str__(self):\n",
        "        return \"<\" + str(self.x) + \", \" + str(self.y) + \">\" # returns a string\n",
        "\n",
        "c = Coordinate(3, 4)\n",
        "zero = Coordinate(0, 0)\n",
        "print(zero)"
      ]
    },
    {
      "cell_type": "markdown",
      "id": "304b8b42-6ae0-4c07-9311-7801b7641367",
      "metadata": {
        "id": "304b8b42-6ae0-4c07-9311-7801b7641367"
      },
      "source": [
        "## Magic methods\n",
        "\n",
        "Special methods that have double underscores (*dunder*) on both sides of the method name.\n",
        "\n",
        "`__init__()` and `__str__()` are two examples we saw already.\n",
        "\n",
        "Used for operator (e.g., `+`, `*`, `%`) **overloading**.\n",
        "- Provides additional functionality to the operators, beyond their original purpose (e.g., `+` was originally designed to add numbers).\n",
        "  * Allows class to define their own behavior with respect to language operators.\n",
        "- Example: `2*3 = 6` and `'X'*3 = 'XXX'`\n",
        "\n",
        "There is a long list of magic methods in Python.\n",
        "\n",
        "We will see only some of the most usually used ones:\n",
        "\n",
        "* `__add__()` adds attributes of class instances."
      ]
    },
    {
      "cell_type": "code",
      "source": [
        "a = 2\n",
        "b = 3\n",
        "a + b"
      ],
      "metadata": {
        "id": "5G_UPcyIq2i_",
        "colab": {
          "base_uri": "https://localhost:8080/"
        },
        "outputId": "c6b5e0d9-7db3-4504-818b-4e03072a1902"
      },
      "id": "5G_UPcyIq2i_",
      "execution_count": null,
      "outputs": [
        {
          "output_type": "execute_result",
          "data": {
            "text/plain": [
              "5"
            ]
          },
          "metadata": {},
          "execution_count": 7
        }
      ]
    },
    {
      "cell_type": "code",
      "execution_count": null,
      "id": "cb98ce06-163e-487d-b0fc-aaf7cf71c06b",
      "metadata": {
        "id": "cb98ce06-163e-487d-b0fc-aaf7cf71c06b",
        "colab": {
          "base_uri": "https://localhost:8080/"
        },
        "outputId": "70959301-f37e-42d5-f452-51cb3f77630e"
      },
      "outputs": [
        {
          "output_type": "execute_result",
          "data": {
            "text/plain": [
              "30"
            ]
          },
          "metadata": {},
          "execution_count": 8
        }
      ],
      "source": [
        "\"\"\"object1: instance of a class A\n",
        "   object2: instance of class B\n",
        "\n",
        "   Both of these classes have attribute `a`.\n",
        "\n",
        "   When object1 + object2 is done, the __add__ method implicitly adds\n",
        "   the attributes of these instances like object1.a + object2.a,\n",
        "   if defined so.\"\"\"\n",
        "\n",
        "class A:\n",
        "    def __init__(self, a):\n",
        "        self.a = a\n",
        "    def __add__(self, other):\n",
        "        return self.a + other.a\n",
        "\n",
        "\n",
        "a_instance = A(10)\n",
        "b_instance = A(20)\n",
        "a_instance + b_instance"
      ]
    },
    {
      "cell_type": "markdown",
      "source": [
        "<up>**</up> `__add__()` has its siblings `__iadd__()` and `__radd__()` that allow also adding instance attributes with instances of other classes (we will not focus on them in this course)"
      ],
      "metadata": {
        "id": "p_0l6JJf05R7"
      },
      "id": "p_0l6JJf05R7"
    },
    {
      "cell_type": "code",
      "source": [
        "class Weight:\n",
        "  def __init__(self, lb):\n",
        "    self.lb = lb\n",
        "\n",
        "  def __add__(self, other):\n",
        "    if type(other) == int:\n",
        "      return self.lb + other\n",
        "    elif type(other) == str:\n",
        "      raise TypeError(\"Incompatible types: 'str' and 'Weight'\")\n",
        "    else:\n",
        "      return self.lb + other.lb\n",
        "\n",
        "  def __mul__(self, other):\n",
        "    return self.lb * other.lb\n",
        "\n",
        "  def __radd__(self, other):\n",
        "    return self.lb + other\n",
        "\n",
        "  def __iadd__(self, other):\n",
        "    return self + other.lb\n",
        "\n",
        "\n",
        "w1 = Weight(50)\n",
        "w2 = Weight(150)\n",
        "w3 = Weight(25)\n",
        "\n",
        "total = w1 + 3\n",
        "print(total)\n",
        "\n",
        "total = 3 + w2\n",
        "print(total)"
      ],
      "metadata": {
        "colab": {
          "base_uri": "https://localhost:8080/"
        },
        "id": "D55u4MwosYFO",
        "outputId": "0086f182-bed5-4750-8b76-7378aea44dc9"
      },
      "id": "D55u4MwosYFO",
      "execution_count": null,
      "outputs": [
        {
          "output_type": "stream",
          "name": "stdout",
          "text": [
            "53\n",
            "153\n"
          ]
        }
      ]
    },
    {
      "cell_type": "markdown",
      "id": "931e3281-358e-4295-bd8b-35c7756f4eaf",
      "metadata": {
        "id": "931e3281-358e-4295-bd8b-35c7756f4eaf"
      },
      "source": [
        "* `__getitem__`: Gets an item from the invoked instance's attribute.\n",
        "* `__setitem__`: Sets an item into a specific index of the invoked instances’ attribute.\n",
        "    - Both commonly used with complex object types (e.g, tuples, lists)"
      ]
    },
    {
      "cell_type": "code",
      "execution_count": null,
      "id": "d0a067e8-326d-4a2e-a130-799c2573fc55",
      "metadata": {
        "id": "d0a067e8-326d-4a2e-a130-799c2573fc55",
        "colab": {
          "base_uri": "https://localhost:8080/"
        },
        "outputId": "1c21f0af-56ba-4e88-ec3c-ea686ab29ee0"
      },
      "outputs": [
        {
          "output_type": "stream",
          "name": "stdout",
          "text": [
            "First item: 1\n",
            "Second item: 2\n",
            "Third item: 3\n"
          ]
        }
      ],
      "source": [
        "class A:\n",
        "    def __init__(self, item):\n",
        "        self.item = item\n",
        "    def __getitem__(self, index):\n",
        "        return self.item[index]\n",
        "\n",
        "\n",
        "a = A([1, 2, 3])\n",
        "print(f\"First item: {a[0]}\")\n",
        "print(f\"Second item: {a[1]}\")\n",
        "print(f\"Third item: {a[2]}\")"
      ]
    },
    {
      "cell_type": "code",
      "execution_count": null,
      "id": "ace518f3-1673-43a6-91a7-9feaa0ce5cf1",
      "metadata": {
        "id": "ace518f3-1673-43a6-91a7-9feaa0ce5cf1",
        "colab": {
          "base_uri": "https://localhost:8080/"
        },
        "outputId": "fa679d26-9427-4418-9b22-23a32d6b3b45"
      },
      "outputs": [
        {
          "output_type": "stream",
          "name": "stdout",
          "text": [
            "Items before setting: [1,2,3]\n",
            "Items after setting: [1,5,3]\n"
          ]
        }
      ],
      "source": [
        "class B:\n",
        "    def __init__(self, item):\n",
        "        self.item = item\n",
        "    def __setitem__(self, index, item1):\n",
        "        self.item[index] = item1\n",
        "\n",
        "\n",
        "a = B([1, 2, 3])\n",
        "print(f\"Items before setting: {a.item}\")\n",
        "a[1] = 5\n",
        "print(f\"Items after setting: {a.item}\")"
      ]
    },
    {
      "cell_type": "markdown",
      "id": "7788c48d-6200-41fb-9259-a6e2e2aeea79",
      "metadata": {
        "id": "7788c48d-6200-41fb-9259-a6e2e2aeea79"
      },
      "source": [
        "* `__repr__`: Represents (a.k.a. \"prints\") class instance in a string format\n",
        "  - This is equivalent to `__str__()` with some differences that we will not analyze here.\n",
        "  - For the purposes of this class, treat both methods as doing the same thing."
      ]
    },
    {
      "cell_type": "code",
      "source": [
        "print(\"This is a number: \",3)\n",
        "print(\"This is a number: {}\".format(3))\n",
        "print(f\"This is a number: {3}\")"
      ],
      "metadata": {
        "id": "XvKgF59BpedS",
        "colab": {
          "base_uri": "https://localhost:8080/"
        },
        "outputId": "2dd0f482-35f5-4bcc-f495-ba8bfed9306b"
      },
      "id": "XvKgF59BpedS",
      "execution_count": null,
      "outputs": [
        {
          "output_type": "stream",
          "name": "stdout",
          "text": [
            "This is a number:  3\n",
            "This is a number: 3\n",
            "This is a number: 3\n"
          ]
        }
      ]
    },
    {
      "cell_type": "code",
      "execution_count": null,
      "id": "75d6ffb0-ea78-43a1-afe1-7c47b1894862",
      "metadata": {
        "id": "75d6ffb0-ea78-43a1-afe1-7c47b1894862",
        "colab": {
          "base_uri": "https://localhost:8080/"
        },
        "outputId": "bb082944-e5f1-4fe6-f00a-4d85df8bbe06"
      },
      "outputs": [
        {
          "output_type": "stream",
          "name": "stdout",
          "text": [
            "A(a=1, b=2, c=3)\n"
          ]
        }
      ],
      "source": [
        "class A:\n",
        "    def __init__(self, a, b, c):\n",
        "        self.a = a\n",
        "        self.b = b\n",
        "        self.c = c\n",
        "    def __repr__(self):\n",
        "        return f\"A(a={self.a}, b={self.b}, c={self.c})\"\n",
        "a = A(1, 2, 3)\n",
        "print(a)"
      ]
    },
    {
      "cell_type": "markdown",
      "id": "3e30d4df-e6cc-40b8-b3a2-3cf4a031a355",
      "metadata": {
        "id": "3e30d4df-e6cc-40b8-b3a2-3cf4a031a355"
      },
      "source": [
        "* `__len__`: Calculates the length of instance attributes"
      ]
    },
    {
      "cell_type": "code",
      "execution_count": null,
      "id": "949bb638-9793-4733-9ba4-6ab39a1ca760",
      "metadata": {
        "id": "949bb638-9793-4733-9ba4-6ab39a1ca760",
        "colab": {
          "base_uri": "https://localhost:8080/"
        },
        "outputId": "6b5eeeef-a61e-4c8c-cf47-ca92467b3617"
      },
      "outputs": [
        {
          "output_type": "stream",
          "name": "stdout",
          "text": [
            "3\n"
          ]
        }
      ],
      "source": [
        "class A:\n",
        "    def __init__(self, item):\n",
        "        self.item = item\n",
        "    def __len__(self):\n",
        "        return len(self.item)\n",
        "a = A([1, 2, 3])\n",
        "print(len(a))"
      ]
    },
    {
      "cell_type": "markdown",
      "id": "94afdf68-315f-456e-8007-30f6a1e13c1e",
      "metadata": {
        "id": "94afdf68-315f-456e-8007-30f6a1e13c1e"
      },
      "source": [
        "* `__lt__, __gt__, __le__, __ge__, __eq__, and __ne__`: Used for comparison purposes between instance attributes."
      ]
    },
    {
      "cell_type": "code",
      "execution_count": null,
      "id": "24d59c2b-434a-47a1-9082-cf9e24a5967d",
      "metadata": {
        "id": "24d59c2b-434a-47a1-9082-cf9e24a5967d",
        "colab": {
          "base_uri": "https://localhost:8080/"
        },
        "outputId": "e10be33a-292a-48ef-a14d-e9005cd788c1"
      },
      "outputs": [
        {
          "output_type": "stream",
          "name": "stdout",
          "text": [
            "True False True False False True\n"
          ]
        }
      ],
      "source": [
        "class A:\n",
        "    def __init__(self, a):\n",
        "        self.a = a\n",
        "    def __lt__(self, other):\n",
        "        return self.a < other.a\n",
        "    def __gt__(self, other):\n",
        "        return self.a > other.a\n",
        "    def __le__(self, other):\n",
        "        return self.a <= other.a\n",
        "    def __ge__(self, other):\n",
        "        return self.a >= other.a\n",
        "    def __eq__(self, other):\n",
        "        return self.a == other.a\n",
        "    def __ne__(self, other):\n",
        "        return self.a != other.a\n",
        "a = A(1)\n",
        "b = A(2)\n",
        "print(\n",
        "    a < b,\n",
        "    a > b,\n",
        "    a <= b,\n",
        "    a >= b,\n",
        "    a == b,\n",
        "    a != b\n",
        ")"
      ]
    },
    {
      "cell_type": "markdown",
      "id": "0687616e-2daa-45b9-9844-e23cc65ee695",
      "metadata": {
        "id": "0687616e-2daa-45b9-9844-e23cc65ee695"
      },
      "source": [
        "* `__contains__`: Invoked when using keyword `in`, checks whether an item exists in the instance's attributes."
      ]
    },
    {
      "cell_type": "code",
      "execution_count": null,
      "id": "9552dfa4-759a-4f78-87ef-fef88610b5c3",
      "metadata": {
        "id": "9552dfa4-759a-4f78-87ef-fef88610b5c3",
        "colab": {
          "base_uri": "https://localhost:8080/"
        },
        "outputId": "fc1eaf5f-0c90-426c-9b5e-2ed639ad96a3"
      },
      "outputs": [
        {
          "output_type": "stream",
          "name": "stdout",
          "text": [
            "False\n"
          ]
        }
      ],
      "source": [
        "class A:\n",
        "    def __init__(self, items):\n",
        "        self.items = items\n",
        "    def __contains__(self, item):\n",
        "        return item in self.items # boolean return, either True or False\n",
        "a = A([1, 2, 3, 4, 5])\n",
        "print(6 in a)"
      ]
    },
    {
      "cell_type": "markdown",
      "id": "40010822-c196-4c7b-9a17-74d7cea94430",
      "metadata": {
        "id": "40010822-c196-4c7b-9a17-74d7cea94430"
      },
      "source": [
        "* `__call__`: Invoked along a class instance. Instead of creating a method for a certain operation (let's say, a multiplication), use this method to perform it directly using the class instance."
      ]
    },
    {
      "cell_type": "code",
      "execution_count": null,
      "id": "3657482c-658b-40e1-80dd-93231920614c",
      "metadata": {
        "id": "3657482c-658b-40e1-80dd-93231920614c",
        "colab": {
          "base_uri": "https://localhost:8080/"
        },
        "outputId": "345b9fc3-311b-46f6-d12d-86bd56d6cd48"
      },
      "outputs": [
        {
          "output_type": "stream",
          "name": "stdout",
          "text": [
            "30\n"
          ]
        }
      ],
      "source": [
        "class A:\n",
        "    def __init__(self, val):\n",
        "        self.val = val\n",
        "    def __call__(self, b):\n",
        "        return self.val * b\n",
        "a = A(5)\n",
        "print(a(6))"
      ]
    },
    {
      "cell_type": "markdown",
      "id": "5e48692f-1f70-45d9-9277-77efb4e6ac2d",
      "metadata": {
        "id": "5e48692f-1f70-45d9-9277-77efb4e6ac2d"
      },
      "source": [
        "* `__iter__`: Provides a generator object for the class instance."
      ]
    },
    {
      "cell_type": "code",
      "execution_count": null,
      "id": "40b28fb0-b8c4-43c8-a79e-0148d257277f",
      "metadata": {
        "id": "40b28fb0-b8c4-43c8-a79e-0148d257277f",
        "colab": {
          "base_uri": "https://localhost:8080/"
        },
        "outputId": "ba0683b9-c730-459c-f008-8620cd75fe1f"
      },
      "outputs": [
        {
          "output_type": "stream",
          "name": "stdout",
          "text": [
            "1\n",
            "4\n",
            "9\n"
          ]
        }
      ],
      "source": [
        "class Squares:\n",
        "    def __init__(self, start, stop):\n",
        "        self.start = start\n",
        "        self.stop = stop\n",
        "    def __iter__(self):\n",
        "        for value in range(self.start, self.stop + 1):\n",
        "            yield value ** 2\n",
        "\n",
        "i = iter(Squares(1, 3))\n",
        "print(next(i))\n",
        "print(next(i))\n",
        "print(next(i))"
      ]
    },
    {
      "cell_type": "markdown",
      "id": "42192a2d",
      "metadata": {
        "id": "42192a2d"
      },
      "source": [
        "# Special operators\n",
        "\n",
        "`+, -, ==, <, >, len(), print` and many others\n",
        "\n",
        "Like `print`, you can override these to work with your class\n",
        "\n",
        "Define them with double underscores before/after (similar to `__init__`)\n",
        "```\n",
        "__add__(self, other) -> self + other\n",
        "__sub__(self, other) -> self - other\n",
        "__eq__(self, other)  -> self == other\n",
        "__lt__(self, other)  -> self < other\n",
        "__len__(self)        -> len(self)\n",
        "__str__(self)        -> print self\n",
        "```\n",
        "\n",
        "...and others"
      ]
    },
    {
      "cell_type": "markdown",
      "id": "d014e903",
      "metadata": {
        "id": "d014e903"
      },
      "source": [
        "# The power of OOP\n",
        "\n",
        "Bundle together objects that share\n",
        "- common attributes\n",
        "- procedures that operate on those attributes\n",
        "\n",
        "Use abstraction to make a distinction between how to implement an object vs. how to use the object\n",
        "\n",
        "Build layers of object abstractions that inherit behaviors from other classes of objects\n",
        "\n",
        "Create own classes of objects on top of Python's basic classes."
      ]
    },
    {
      "cell_type": "markdown",
      "metadata": {
        "id": "069265c3"
      },
      "source": [
        "# Implementing a class vs. Using a class\n",
        "\n",
        "Because it might have been confusing, we need to distinguish between *implementing a class* (using keyword `class` etc.) and *using a class* (creating instances of the class.)\n",
        "\n",
        "**Implementing** a new object type with a class\n",
        "- **define** the class\n",
        "- define **data attributes** (as in WHAT is the object)\n",
        "- define **methods** (as in HOW to use the object)\n",
        "\n",
        "**Using** the new object type in code\n",
        "- create **instances** of the object type\n",
        "- do **operations** with them"
      ],
      "id": "069265c3"
    },
    {
      "cell_type": "markdown",
      "metadata": {
        "id": "d9a06c60"
      },
      "source": [
        "## Recap\n",
        "\n",
        "- class name is the **type**:"
      ],
      "id": "d9a06c60"
    },
    {
      "cell_type": "code",
      "execution_count": null,
      "metadata": {
        "tags": [],
        "id": "b847e750-8a84-4d8b-a95c-be13f62b2d1a"
      },
      "outputs": [],
      "source": [
        "class Coordinate"
      ],
      "id": "b847e750-8a84-4d8b-a95c-be13f62b2d1a"
    },
    {
      "cell_type": "markdown",
      "metadata": {
        "tags": [],
        "id": "70918c74-e84e-4aa9-815b-7b1069a2d6c5"
      },
      "source": [
        "- A class is defined generically:\n",
        "    * We use `self` to refer to some instance.\n",
        "    * `self` is a parameter to methods in class definition.\n",
        "<!-- - class defines data and methods **common across all instances** -->"
      ],
      "id": "70918c74-e84e-4aa9-815b-7b1069a2d6c5"
    },
    {
      "cell_type": "markdown",
      "metadata": {
        "tags": [],
        "id": "37744060-7e82-4112-b045-7b69a2e904d4"
      },
      "source": [
        "#### Instance of a class\n",
        "\n",
        "- instance is **one specific** object"
      ],
      "id": "37744060-7e82-4112-b045-7b69a2e904d4"
    },
    {
      "cell_type": "code",
      "execution_count": null,
      "metadata": {
        "tags": [],
        "id": "4f6886db-ac97-4f19-bb04-25579aefa571"
      },
      "outputs": [],
      "source": [
        "coord = Coordinate(1, 2)"
      ],
      "id": "4f6886db-ac97-4f19-bb04-25579aefa571"
    },
    {
      "cell_type": "markdown",
      "metadata": {
        "tags": [],
        "id": "d1ef19a2-839b-4087-968a-d84b81334094"
      },
      "source": [
        "- data attribute values vary between instances\n",
        "    * `c1` and `c2` have different data attribute values `c1.x` and `c2.x` because they are different objects"
      ],
      "id": "d1ef19a2-839b-4087-968a-d84b81334094"
    },
    {
      "cell_type": "code",
      "execution_count": null,
      "metadata": {
        "tags": [],
        "id": "5a9a4073-d2c2-4ec8-b92e-02865b2d573a"
      },
      "outputs": [],
      "source": [
        "c1 = Coordinate(1, 2)\n",
        "c2 = Coordinate(3, 4)"
      ],
      "id": "5a9a4073-d2c2-4ec8-b92e-02865b2d573a"
    },
    {
      "cell_type": "markdown",
      "metadata": {
        "id": "9b406db2"
      },
      "source": [
        "**Comments on attributes and methods:**\n",
        "\n",
        "- **data attributes**\n",
        "    * This is how one can represent an object with data.\n",
        "    * **what the object is!**\n",
        "    * *for a coordinate: x and y values*\n",
        "    * *for a human: age, name (and others)*\n",
        "- **procedures** (behavior/operations/**methods**)\n",
        "    * This is how one interacts with the object.\n",
        "    * **what the object does**\n",
        "    * *for a coordinate: find distance between two points*\n",
        "    * *for a human: walk*"
      ],
      "id": "9b406db2"
    },
    {
      "cell_type": "code",
      "execution_count": null,
      "metadata": {
        "tags": [],
        "id": "64a521e4-14b7-4399-83ea-deb74e525ff9"
      },
      "outputs": [],
      "source": [
        "class Animal(object):\n",
        "    def __init__(self, age):\n",
        "        self.age = age\n",
        "        self.name = None\n",
        "\n",
        "\n",
        "myanimal = Animal(3)"
      ],
      "id": "64a521e4-14b7-4399-83ea-deb74e525ff9"
    },
    {
      "cell_type": "markdown",
      "metadata": {
        "id": "cd0192c3"
      },
      "source": [
        "# Encapsulation\n",
        "\n",
        "In some situations, we may not want anyone to access the attributes in our class. Instead, we may want to control the access to them.\n",
        "\n",
        "This is done via **encapsulation**.\n",
        "\n",
        "In OOP, encapsulation is the packing of attributes and methods within a single object.\n",
        "\n",
        "By doing so, we can hide the internal state of teh object from the outside.\n",
        "\n",
        "*Encapsulation provides information hiding.*\n",
        "\n",
        "### Private attributes\n",
        "\n",
        "Attributes that are only accessible inside the class. No access from the outside is allowed.\n",
        "\n",
        "To make an attribute private, we use a prefix of double underscores as: `__attribute`.\n",
        "\n",
        "Let's see an example:\n",
        "\n",
        "```python\n",
        "class Animal:\n",
        "    def __init__(self, age):\n",
        "        self.__age = age\n",
        "        self.__name = None\n",
        "\n",
        "    def get_age(self):\n",
        "        return self.__age\n",
        "\n",
        "    def set_age(self, newage):\n",
        "      if newage <= 0:\n",
        "        print(\"Age must be positive\")\n",
        "      else:\n",
        "        self.__age = newage\n",
        "\n",
        "    def get_name(self):\n",
        "      return self.__name\n",
        "\n",
        "    def set_name(self, newname):\n",
        "      self.__name = newname\n",
        "\n",
        "    def __str__(self):\n",
        "        return \"animal:\" + str(self.__name) + \":\" + str(self.__age)\n",
        "```\n",
        "\n",
        "Both attributes defined within the constructor are private. Therefore, no one is allowed to directly access them from outside the class.\n",
        "\n",
        "However, not been able to do that is problematic as you have probably guessed. We need to find a way to do that.\n",
        "\n",
        "Pay attention to the four new methods (apart from `__str__()`) we defined in the class:\n",
        "- `set_age()`: The purpose of this method is to set a new value for the `__age` attribute.\n",
        "  * This is going to be the `newage` parameter.\n",
        "  * But we have a condition; we will only set a new age if the `newage` is greater than zero.\n",
        "  * That way we gain the advantage to control the age setting mechanism.\n",
        "- `get_age()`: Since `__age` attribute is private, no one can see its value.\n",
        "  * So we need  a method to return the age if someone asks for it.\n",
        "  * This methos simply returns the age as: `return self.__age`.\n",
        "\n",
        "That's it! Now we implement a level of encapsulation in our class. As developers, we have complete control over our `__age` attribute."
      ],
      "id": "cd0192c3"
    },
    {
      "cell_type": "code",
      "execution_count": null,
      "metadata": {
        "tags": [],
        "id": "7575f3a1-d909-4807-a0e5-21f9f09f1a99"
      },
      "outputs": [],
      "source": [
        "class Animal:\n",
        "    def __init__(self, age):\n",
        "        self.__age = age\n",
        "        self.__name = None\n",
        "\n",
        "    def get_age(self):\n",
        "        return self.__age\n",
        "\n",
        "    def set_age(self, newage):\n",
        "      if newage <= 0:\n",
        "        print(\"Age must be positive\")\n",
        "      else:\n",
        "        self.__age = newage\n",
        "\n",
        "    def get_name(self):\n",
        "      return self.__name\n",
        "\n",
        "    def set_name(self, newname):\n",
        "      self.__name = newname\n",
        "\n",
        "    def __str__(self):\n",
        "        return \"animal:\" + str(self.__name) + \":\" + str(self.__age)\n"
      ],
      "id": "7575f3a1-d909-4807-a0e5-21f9f09f1a99"
    },
    {
      "cell_type": "code",
      "source": [
        "m1 = Animal(3)\n",
        "print(m1)"
      ],
      "metadata": {
        "colab": {
          "base_uri": "https://localhost:8080/"
        },
        "id": "bitGQSvTiHLq",
        "outputId": "624d43b2-c5c1-4a8d-8bbe-9bae03ad1de7"
      },
      "execution_count": null,
      "outputs": [
        {
          "output_type": "stream",
          "name": "stdout",
          "text": [
            "animal:None:3\n"
          ]
        }
      ],
      "id": "bitGQSvTiHLq"
    },
    {
      "cell_type": "code",
      "source": [
        "# This will return an error; __age is private\n",
        "m1.__age"
      ],
      "metadata": {
        "colab": {
          "base_uri": "https://localhost:8080/",
          "height": 197
        },
        "id": "jTTmF7EVHiRo",
        "outputId": "0197a0b8-da7c-4668-d5b4-68bcab10fd29"
      },
      "id": "jTTmF7EVHiRo",
      "execution_count": null,
      "outputs": [
        {
          "output_type": "error",
          "ename": "AttributeError",
          "evalue": "ignored",
          "traceback": [
            "\u001b[0;31m---------------------------------------------------------------------------\u001b[0m",
            "\u001b[0;31mAttributeError\u001b[0m                            Traceback (most recent call last)",
            "\u001b[0;32m<ipython-input-3-6980d5ffa429>\u001b[0m in \u001b[0;36m<cell line: 2>\u001b[0;34m()\u001b[0m\n\u001b[1;32m      1\u001b[0m \u001b[0;31m# This will return an error; __age is private\u001b[0m\u001b[0;34m\u001b[0m\u001b[0;34m\u001b[0m\u001b[0m\n\u001b[0;32m----> 2\u001b[0;31m \u001b[0mm1\u001b[0m\u001b[0;34m.\u001b[0m\u001b[0m__age\u001b[0m\u001b[0;34m\u001b[0m\u001b[0;34m\u001b[0m\u001b[0m\n\u001b[0m",
            "\u001b[0;31mAttributeError\u001b[0m: 'Animal' object has no attribute '__age'"
          ]
        }
      ]
    },
    {
      "cell_type": "markdown",
      "source": [
        "Let's see something interesting now:\n",
        "\n",
        "Suppose we set the age to 5. To do this, we just assign this value to the `m1.__age`.\n",
        "- Let's do this and see what happens:"
      ],
      "metadata": {
        "id": "hfNIK0NoIBLO"
      },
      "id": "hfNIK0NoIBLO"
    },
    {
      "cell_type": "code",
      "source": [
        "m1.__age = 5"
      ],
      "metadata": {
        "id": "pPinhi3XIWOc"
      },
      "id": "pPinhi3XIWOc",
      "execution_count": null,
      "outputs": []
    },
    {
      "cell_type": "markdown",
      "source": [
        "In the cell above, we *think* we assigned a new value for `m1` age.\n",
        "\n",
        "No errors occured. But there is something wrong here. To see what this is, let's print the instance:"
      ],
      "metadata": {
        "id": "NWUzLJzHIa5W"
      },
      "id": "NWUzLJzHIa5W"
    },
    {
      "cell_type": "code",
      "source": [
        "print(m1)"
      ],
      "metadata": {
        "colab": {
          "base_uri": "https://localhost:8080/"
        },
        "id": "8OiCSXriJDT3",
        "outputId": "91adad6c-5955-44f8-b33d-7c36c406d90f"
      },
      "id": "8OiCSXriJDT3",
      "execution_count": null,
      "outputs": [
        {
          "output_type": "stream",
          "name": "stdout",
          "text": [
            "animal:None:3\n"
          ]
        }
      ]
    },
    {
      "cell_type": "markdown",
      "source": [
        "As we see, while we *think* we updated the value of age; however, the output is still `3`.\n",
        "\n",
        "**Why is this possible?**\n",
        "\n",
        "It is possible because we didn't set the `__age` attribute **in the class**\n",
        "\n",
        "When we type `m1.__age`, Python creates a new attribute with the same name as `__age` for this **animal object only**.\n",
        "- It has *no effect* on the class level.\n",
        "- If you want to be sure, try to print `m1.__age`"
      ],
      "metadata": {
        "id": "2AYAO9DZJTqu"
      },
      "id": "2AYAO9DZJTqu"
    },
    {
      "cell_type": "code",
      "source": [
        "print(m1.__age, m1.get_age())"
      ],
      "metadata": {
        "colab": {
          "base_uri": "https://localhost:8080/"
        },
        "id": "FLCMWzZGKTSa",
        "outputId": "55ca6c54-00a4-4989-cae8-d9131f9aed85"
      },
      "id": "FLCMWzZGKTSa",
      "execution_count": null,
      "outputs": [
        {
          "output_type": "stream",
          "name": "stdout",
          "text": [
            "5 3\n"
          ]
        }
      ]
    },
    {
      "cell_type": "markdown",
      "source": [
        "As you see, the value is equal to 5. But it has no effect on the `__age` attribute inside the `Animal` class.\n",
        "\n",
        "That shows how tricky it might be when we deal with private elements of a class.\n",
        "- We should be always aware of what we are doing, so we should always use *getter* and *setter* methods to manipulate private elements.\n",
        "\n",
        "In Python, if we want we can set attributes to objects independent of their classes.\n",
        "\n",
        "**Example:** we can add a new attribute to the `m1` object as color:\n",
        "\n",
        "```python\n",
        "m1.color = 'White'\n",
        "print(m1.color)\n",
        "```"
      ],
      "metadata": {
        "id": "WQU5G-muKVCG"
      },
      "id": "WQU5G-muKVCG"
    },
    {
      "cell_type": "code",
      "source": [
        "m1.color = 'White'\n",
        "print(m1.color)"
      ],
      "metadata": {
        "colab": {
          "base_uri": "https://localhost:8080/"
        },
        "id": "03kqMfGELG22",
        "outputId": "3e7f1cf6-45ec-4fa1-c0c5-3303d58497c4"
      },
      "id": "03kqMfGELG22",
      "execution_count": null,
      "outputs": [
        {
          "output_type": "stream",
          "name": "stdout",
          "text": [
            "White\n"
          ]
        }
      ]
    },
    {
      "cell_type": "code",
      "source": [
        "m2 = Animal(5)\n",
        "m2.color"
      ],
      "metadata": {
        "colab": {
          "base_uri": "https://localhost:8080/",
          "height": 197
        },
        "id": "19zUfI9k7oKz",
        "outputId": "7318b429-3c23-4197-ce03-08ee7c0d4f34"
      },
      "id": "19zUfI9k7oKz",
      "execution_count": null,
      "outputs": [
        {
          "output_type": "error",
          "ename": "AttributeError",
          "evalue": "ignored",
          "traceback": [
            "\u001b[0;31m---------------------------------------------------------------------------\u001b[0m",
            "\u001b[0;31mAttributeError\u001b[0m                            Traceback (most recent call last)",
            "\u001b[0;32m<ipython-input-7-3a3360acb11d>\u001b[0m in \u001b[0;36m<cell line: 2>\u001b[0;34m()\u001b[0m\n\u001b[1;32m      1\u001b[0m \u001b[0mm2\u001b[0m \u001b[0;34m=\u001b[0m \u001b[0mAnimal\u001b[0m\u001b[0;34m(\u001b[0m\u001b[0;36m5\u001b[0m\u001b[0;34m)\u001b[0m\u001b[0;34m\u001b[0m\u001b[0;34m\u001b[0m\u001b[0m\n\u001b[0;32m----> 2\u001b[0;31m \u001b[0mm2\u001b[0m\u001b[0;34m.\u001b[0m\u001b[0mcolor\u001b[0m\u001b[0;34m\u001b[0m\u001b[0;34m\u001b[0m\u001b[0m\n\u001b[0m",
            "\u001b[0;31mAttributeError\u001b[0m: 'Animal' object has no attribute 'color'"
          ]
        }
      ]
    },
    {
      "cell_type": "markdown",
      "source": [
        "**Warning!** This, again, has nothing to do with the `Animal` class. It is just an attribute of the current `m1` instance.\n",
        "\n",
        "If we create another instance, say `m2`, this one will **not** have this `color` attribute.\n",
        "\n",
        "So, we saw that we cannot set a value for the `__age` attribute by just saying `m1.__age = 5`.\n",
        "\n",
        "What can we do instead?\n",
        "\n",
        "**Answer:** This is where *getter* and *setter* methods come in.\n",
        "\n",
        "### Getter-Setter methods\n",
        "\n",
        "We use getter and setter methods to, as the name suggests, get and set values of private class attributes.\n",
        "\n",
        "In the previous example, if we want to update the age of instance `m1` we will call the `set_age()` method and pass the new age value:\n",
        "```python\n",
        "m1.set_age(5)\n",
        "```\n",
        "\n",
        "We can then use `get_age()` to see whether the attribute's value was updated"
      ],
      "metadata": {
        "id": "ykx3cgTmLI6q"
      },
      "id": "ykx3cgTmLI6q"
    },
    {
      "cell_type": "code",
      "source": [
        "m1.set_age(5)\n",
        "m1.get_age()"
      ],
      "metadata": {
        "colab": {
          "base_uri": "https://localhost:8080/"
        },
        "id": "KymlwEmlVikf",
        "outputId": "942f6ad5-fcc8-4ad8-948a-586b2a57e21e"
      },
      "id": "KymlwEmlVikf",
      "execution_count": null,
      "outputs": [
        {
          "output_type": "execute_result",
          "data": {
            "text/plain": [
              "5"
            ]
          },
          "metadata": {},
          "execution_count": 9
        }
      ]
    },
    {
      "cell_type": "markdown",
      "source": [
        "### Why do we need encapsulation for?\n",
        "\n",
        "Encapsulation is needed to give all control to the class. The class can do necessary checks in the set methods and can implement or reject any modification it wants, regardless of the outside world.\n",
        "\n",
        "As the last example, let's try to set a negative value for the age of an animal:"
      ],
      "metadata": {
        "id": "u9PxRmcYR_4U"
      },
      "id": "u9PxRmcYR_4U"
    },
    {
      "cell_type": "code",
      "source": [
        "m1.set_age(-2)\n",
        "age = m1.get_age()\n",
        "print(\"Current age is:\",age)"
      ],
      "metadata": {
        "colab": {
          "base_uri": "https://localhost:8080/"
        },
        "id": "Tzr-BgF8Wq7x",
        "outputId": "2d6eeb6d-11eb-48d6-e9d3-51b40b4019e7"
      },
      "id": "Tzr-BgF8Wq7x",
      "execution_count": null,
      "outputs": [
        {
          "output_type": "stream",
          "name": "stdout",
          "text": [
            "Age must be positive\n",
            "Current age is: 5\n"
          ]
        }
      ]
    },
    {
      "cell_type": "markdown",
      "source": [
        "As you see, we tried to set a negative age value and the method displayed `Age must be positive`. The age didn't change."
      ],
      "metadata": {
        "id": "7tu_y-xrW9xQ"
      },
      "id": "7tu_y-xrW9xQ"
    },
    {
      "cell_type": "markdown",
      "metadata": {
        "id": "67c5bb6e"
      },
      "source": [
        "## Appendix: Default arguments\n",
        "\n",
        "- **default arguments** for formal parameters are used if no actual argument is given\n",
        "\n",
        "```python\n",
        "def set_name(self, newname=\"\"):\n",
        "    self.name = newname\n",
        "```\n",
        "\n",
        "- default argument used here\n",
        "\n",
        "```python\n",
        "a = Animal(3)\n",
        "a.set_name()\n",
        "print(a.get_name())\n",
        "```\n",
        "\n",
        "- argument passed in is used here\n",
        "\n",
        "```python\n",
        "a = Animal(3)\n",
        "a.set_name(\"Bill\")\n",
        "print(a.get_name())\n",
        "```"
      ],
      "id": "67c5bb6e"
    },
    {
      "cell_type": "code",
      "source": [],
      "metadata": {
        "id": "23gDxAtFR-zT"
      },
      "id": "23gDxAtFR-zT",
      "execution_count": null,
      "outputs": []
    }
  ],
  "metadata": {
    "celltoolbar": "Slideshow",
    "kernelspec": {
      "display_name": "Python 3 (ipykernel)",
      "language": "python",
      "name": "python3"
    },
    "language_info": {
      "codemirror_mode": {
        "name": "ipython",
        "version": 3
      },
      "file_extension": ".py",
      "mimetype": "text/x-python",
      "name": "python",
      "nbconvert_exporter": "python",
      "pygments_lexer": "ipython3",
      "version": "3.8.2"
    },
    "colab": {
      "provenance": [],
      "include_colab_link": true
    }
  },
  "nbformat": 4,
  "nbformat_minor": 5
}